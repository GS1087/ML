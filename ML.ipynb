{
  "nbformat": 4,
  "nbformat_minor": 0,
  "metadata": {
    "colab": {
      "provenance": [],
      "authorship_tag": "ABX9TyMqmTBdfpdnSbDvQGF58lTp",
      "include_colab_link": true
    },
    "kernelspec": {
      "name": "python3",
      "display_name": "Python 3"
    },
    "language_info": {
      "name": "python"
    }
  },
  "cells": [
    {
      "cell_type": "markdown",
      "metadata": {
        "id": "view-in-github",
        "colab_type": "text"
      },
      "source": [
        "<a href=\"https://colab.research.google.com/github/GS1087/ML/blob/main/ML.ipynb\" target=\"_parent\"><img src=\"https://colab.research.google.com/assets/colab-badge.svg\" alt=\"Open In Colab\"/></a>"
      ]
    },
    {
      "cell_type": "code",
      "source": [
        "1+1"
      ],
      "metadata": {
        "colab": {
          "base_uri": "https://localhost:8080/"
        },
        "id": "QGvsFDVF5KLa",
        "outputId": "ea014f90-7b29-45b5-ec35-b642cc2176a6"
      },
      "execution_count": 2,
      "outputs": [
        {
          "output_type": "execute_result",
          "data": {
            "text/plain": [
              "2"
            ]
          },
          "metadata": {},
          "execution_count": 2
        }
      ]
    },
    {
      "cell_type": "markdown",
      "source": [
        "Syntax refers to thr set of rules that defines the combinations of symbols that are considered to be correctly structured programs in a language In simple terms syntax is about the correct arrangements of words and symbols in a code.\n",
        "\n",
        "\n",
        "\n",
        "\n",
        "\n",
        "\n",
        "\n",
        "\n",
        "\n",
        "Semantics refers to the meaninf or the interpretation of the symbols, characters, and commands in a language. It is aabout what the code is supposed to do when it runs."
      ],
      "metadata": {
        "id": "pwZHUuz5ALul"
      }
    },
    {
      "cell_type": "code",
      "source": [
        "## Basics Syntax Rules in Python\n",
        "\n",
        "## Case sensitivity python is case sensitive\n",
        "\n",
        "name= \"Krish\"\n",
        "Name= \"Naik\"\n",
        "\n",
        "print(name)\n",
        "print(Name)\n"
      ],
      "metadata": {
        "colab": {
          "base_uri": "https://localhost:8080/"
        },
        "id": "esh1CouSBOie",
        "outputId": "49a48c05-1421-4422-e0d2-8c3be51ecadd"
      },
      "execution_count": 4,
      "outputs": [
        {
          "output_type": "stream",
          "name": "stdout",
          "text": [
            "Krish\n",
            "Naik\n"
          ]
        }
      ]
    },
    {
      "cell_type": "markdown",
      "source": [
        "#### Indentation\n",
        "\n",
        "Indentation in Python is use to define the structure and hierarchy of the code. Unlike many other programming languages that use braces {} to delimit blocks of code, Python uses indentation to determine the grouping of statements. This means that all the statements within a block mst be indented at the same level."
      ],
      "metadata": {
        "id": "Ve4-6IhKBrDj"
      }
    },
    {
      "cell_type": "code",
      "source": [
        "## Indentation\n",
        "## Python uses indentation to define blocks of code. Consistent use of spaces (commonly 4) or a tab is required.\n",
        "\n",
        "age= 32\n",
        "if age>30:\n",
        "\n",
        "  print(age)\n",
        "\n",
        "print(age)\n"
      ],
      "metadata": {
        "colab": {
          "base_uri": "https://localhost:8080/"
        },
        "id": "kOwaJ216DJok",
        "outputId": "d625eb04-aae2-47a8-f2bb-7b6559521977"
      },
      "execution_count": 8,
      "outputs": [
        {
          "output_type": "stream",
          "name": "stdout",
          "text": [
            "32\n",
            "32\n"
          ]
        }
      ]
    },
    {
      "cell_type": "code",
      "source": [
        "## This is a single line comment\n",
        "print(\"Hello World\")"
      ],
      "metadata": {
        "colab": {
          "base_uri": "https://localhost:8080/"
        },
        "id": "AMLJ_QhgK1sI",
        "outputId": "014ea219-2031-40f1-defa-b88a35e77a0b"
      },
      "execution_count": 9,
      "outputs": [
        {
          "output_type": "stream",
          "name": "stdout",
          "text": [
            "Hello World\n"
          ]
        }
      ]
    },
    {
      "cell_type": "code",
      "source": [
        "## Line Continuation\n",
        "\n",
        "total= 1+2+3+4+5+6+7+\\\n",
        "4+5+6\n",
        "\n",
        "\n",
        "print(total)"
      ],
      "metadata": {
        "colab": {
          "base_uri": "https://localhost:8080/"
        },
        "id": "TkjYgZG-LGz0",
        "outputId": "f7b660f0-80b6-4170-c9a0-fcc46411ec8b"
      },
      "execution_count": 12,
      "outputs": [
        {
          "output_type": "stream",
          "name": "stdout",
          "text": [
            "43\n"
          ]
        }
      ]
    },
    {
      "cell_type": "code",
      "source": [
        "##Multiple statements on a single line\n",
        "\n",
        "x=5;y=10; z=x+y\n",
        "print(z)"
      ],
      "metadata": {
        "colab": {
          "base_uri": "https://localhost:8080/"
        },
        "id": "WGepnHMwLYrG",
        "outputId": "b3cbaa7b-5d70-4d74-cc7b-6649a23bcd80"
      },
      "execution_count": 13,
      "outputs": [
        {
          "output_type": "stream",
          "name": "stdout",
          "text": [
            "15\n"
          ]
        }
      ]
    },
    {
      "cell_type": "code",
      "source": [
        "## Understanding Semantics in Python\n",
        "# Variable assignment\n",
        "age= 32 ## age is an integer\n",
        "name= \"Krish\" ## name is a string"
      ],
      "metadata": {
        "id": "wUmVc0XYLvsu"
      },
      "execution_count": null,
      "outputs": []
    },
    {
      "cell_type": "code",
      "source": [
        "## Type Inference\n",
        "type(age)"
      ],
      "metadata": {
        "colab": {
          "base_uri": "https://localhost:8080/"
        },
        "id": "6TgB6XypMIbV",
        "outputId": "37d0f0ad-71e7-43dc-faad-78562d12ff14"
      },
      "execution_count": 14,
      "outputs": [
        {
          "output_type": "execute_result",
          "data": {
            "text/plain": [
              "int"
            ]
          },
          "metadata": {},
          "execution_count": 14
        }
      ]
    },
    {
      "cell_type": "code",
      "source": [
        "type(name)"
      ],
      "metadata": {
        "colab": {
          "base_uri": "https://localhost:8080/"
        },
        "id": "zYp3Z19iMJ6V",
        "outputId": "bbad5928-c2c5-4efc-c62f-19acf067abc1"
      },
      "execution_count": 15,
      "outputs": [
        {
          "output_type": "execute_result",
          "data": {
            "text/plain": [
              "str"
            ]
          },
          "metadata": {},
          "execution_count": 15
        }
      ]
    },
    {
      "cell_type": "code",
      "source": [
        "## Type Indference\n",
        "Variable= 10\n",
        "print(type(Variable))\n",
        "variable =\"krish\"\n",
        "print(type (variable))"
      ],
      "metadata": {
        "colab": {
          "base_uri": "https://localhost:8080/"
        },
        "id": "NxD8KRa3MMRw",
        "outputId": "a149b289-a719-4c84-eb75-836060d8466e"
      },
      "execution_count": 17,
      "outputs": [
        {
          "output_type": "stream",
          "name": "stdout",
          "text": [
            "<class 'int'>\n",
            "<class 'str'>\n"
          ]
        }
      ]
    },
    {
      "cell_type": "code",
      "source": [
        "age= 32\n",
        "if age> 30:\n",
        "  print(age)"
      ],
      "metadata": {
        "colab": {
          "base_uri": "https://localhost:8080/"
        },
        "id": "1hM-UllUMmBG",
        "outputId": "49896374-9c0b-45a2-c187-f0e64e5b1684"
      },
      "execution_count": 18,
      "outputs": [
        {
          "output_type": "stream",
          "name": "stdout",
          "text": [
            "32\n"
          ]
        }
      ]
    },
    {
      "cell_type": "code",
      "source": [
        "## Code example of indentation\n",
        "if True:\n",
        "    print(\"Correct Indentation\")\n",
        "    if False:\n",
        "\n",
        "      print(\"This ont print\")\n",
        "      print(\"This will print\")\n",
        "\n",
        "print(\"Outside the if block\")"
      ],
      "metadata": {
        "colab": {
          "base_uri": "https://localhost:8080/"
        },
        "id": "c7Kz0BcrM65P",
        "outputId": "8ce9c01e-1b87-4aba-c775-57a99732e57e"
      },
      "execution_count": 29,
      "outputs": [
        {
          "output_type": "stream",
          "name": "stdout",
          "text": [
            "Correct Indentation\n",
            "Outside the if block\n"
          ]
        }
      ]
    },
    {
      "cell_type": "markdown",
      "source": [
        "**Variables**\n",
        "\n",
        "Vaariables are fundamental elements in programming used to store data that can be referenced and manipulated in a program. In Python, variables are created when you assign a value to them, and they do not need explicit declaration to reserve memory space. The declareation happens automatically when you assign a value to a variable.\n"
      ],
      "metadata": {
        "id": "f5Vds-25OpY-"
      }
    },
    {
      "cell_type": "code",
      "source": [
        "## Declaring And Assgning Variables\n",
        "\n",
        "age= 32\n",
        "height= 5.5\n",
        "name=\"Shivam\"\n",
        "is_student= True\n",
        "\n",
        "## Printing the variables\n",
        "\n",
        "print(\"Age :\", age)\n",
        "print(\"Height :\", height)\n",
        "print(\"Name :\", name)"
      ],
      "metadata": {
        "colab": {
          "base_uri": "https://localhost:8080/"
        },
        "id": "zE6frTnwPfWS",
        "outputId": "e5e1615f-83d4-4318-b07b-f9836f8788bb"
      },
      "execution_count": 31,
      "outputs": [
        {
          "output_type": "stream",
          "name": "stdout",
          "text": [
            "Age : 32\n",
            "Height : 5.5\n",
            "Name : Shivam\n"
          ]
        }
      ]
    },
    {
      "cell_type": "code",
      "source": [
        "## Naming Convention\n",
        "## Variable name should be descriptive\n",
        "## They must start with letter or an '_' and contains letter,numbers and underscores\n",
        "## variables names are case sensitive\n",
        "\n",
        "\n",
        "#valid variable names\n",
        "\n",
        "first_name = \"Shivam\"\n",
        "last_name = \"Gawade\""
      ],
      "metadata": {
        "id": "AbjXutTRSPvI"
      },
      "execution_count": 32,
      "outputs": []
    },
    {
      "cell_type": "code",
      "source": [
        "## Invalid variable\n",
        "#2age = 30\n",
        "\n"
      ],
      "metadata": {
        "id": "QlbDrgfuTEd4"
      },
      "execution_count": 34,
      "outputs": []
    },
    {
      "cell_type": "code",
      "source": [
        "## case sensitivity\n",
        "name =\"Shivam\"\n",
        "Name = \"Gawade\"\n",
        "\n",
        "\n",
        "name == Name"
      ],
      "metadata": {
        "colab": {
          "base_uri": "https://localhost:8080/"
        },
        "id": "DVKmYbpNTUOv",
        "outputId": "ddeb40f9-95a3-4dbd-fa79-bc028b05d153"
      },
      "execution_count": 35,
      "outputs": [
        {
          "output_type": "execute_result",
          "data": {
            "text/plain": [
              "False"
            ]
          },
          "metadata": {},
          "execution_count": 35
        }
      ]
    },
    {
      "cell_type": "code",
      "source": [
        "## Understanding Variables types\n",
        "## Python is dynamically typed, typee of a variable is determined at runtime\n",
        "age= 25 #int\n",
        "height= 5.4 #float\n",
        "is_student = True #bool\n",
        "\n",
        "print(type(is_student))"
      ],
      "metadata": {
        "colab": {
          "base_uri": "https://localhost:8080/"
        },
        "id": "wqmVdYyvTqCk",
        "outputId": "23679bdf-06de-4e4d-83ba-7c8f17668a86"
      },
      "execution_count": 37,
      "outputs": [
        {
          "output_type": "stream",
          "name": "stdout",
          "text": [
            "<class 'bool'>\n"
          ]
        }
      ]
    },
    {
      "cell_type": "code",
      "source": [
        "## Type Checking and Conversion\n",
        "\n",
        "type(height)"
      ],
      "metadata": {
        "colab": {
          "base_uri": "https://localhost:8080/"
        },
        "id": "LTkHyM-eUZsl",
        "outputId": "2d5a6c66-9d43-4360-b3d9-b59fea5d3634"
      },
      "execution_count": 38,
      "outputs": [
        {
          "output_type": "execute_result",
          "data": {
            "text/plain": [
              "float"
            ]
          },
          "metadata": {},
          "execution_count": 38
        }
      ]
    },
    {
      "cell_type": "code",
      "source": [
        "age ='25'\n",
        "print(type(int(age)))"
      ],
      "metadata": {
        "colab": {
          "base_uri": "https://localhost:8080/"
        },
        "id": "8C6Yy8N8UqmM",
        "outputId": "87318790-2377-4f55-a21c-e2119d6e5ddd"
      },
      "execution_count": 39,
      "outputs": [
        {
          "output_type": "stream",
          "name": "stdout",
          "text": [
            "<class 'int'>\n"
          ]
        }
      ]
    },
    {
      "cell_type": "code",
      "source": [
        "height = 5.5\n",
        "type(height)"
      ],
      "metadata": {
        "colab": {
          "base_uri": "https://localhost:8080/"
        },
        "id": "8hvMRMXjf1v_",
        "outputId": "9fd99fae-399e-46c3-acd0-3e64c7cc3afb"
      },
      "execution_count": 40,
      "outputs": [
        {
          "output_type": "execute_result",
          "data": {
            "text/plain": [
              "float"
            ]
          },
          "metadata": {},
          "execution_count": 40
        }
      ]
    },
    {
      "cell_type": "code",
      "source": [
        "age = 25\n",
        "print(type(age))\n",
        "\n",
        "# Type Conversion\n",
        "age_str = str(age)\n",
        "print(age_str)\n",
        "print(type(age_str))"
      ],
      "metadata": {
        "colab": {
          "base_uri": "https://localhost:8080/"
        },
        "id": "xKpYK2ddgE-Z",
        "outputId": "0f25d51c-9918-4642-99b1-12de4abf464a"
      },
      "execution_count": 41,
      "outputs": [
        {
          "output_type": "stream",
          "name": "stdout",
          "text": [
            "<class 'int'>\n",
            "25\n",
            "<class 'str'>\n"
          ]
        }
      ]
    },
    {
      "cell_type": "code",
      "source": [
        "age =25\n",
        "print(type(int(age)))"
      ],
      "metadata": {
        "colab": {
          "base_uri": "https://localhost:8080/"
        },
        "id": "Gd8zC7NogtI0",
        "outputId": "534970a7-4a7d-46a0-d9d4-c517bd5faf8f"
      },
      "execution_count": 43,
      "outputs": [
        {
          "output_type": "stream",
          "name": "stdout",
          "text": [
            "<class 'int'>\n"
          ]
        }
      ]
    },
    {
      "cell_type": "code",
      "source": [
        "name = \"Krish\"\n"
      ],
      "metadata": {
        "id": "5YhNaB0Ag_wb"
      },
      "execution_count": 44,
      "outputs": []
    },
    {
      "cell_type": "code",
      "source": [
        "height = 5.11\n",
        "type(height)"
      ],
      "metadata": {
        "colab": {
          "base_uri": "https://localhost:8080/"
        },
        "id": "UC5BHDRThTP5",
        "outputId": "f9258c67-11ba-495f-a06a-ab241cd8ca7e"
      },
      "execution_count": 45,
      "outputs": [
        {
          "output_type": "execute_result",
          "data": {
            "text/plain": [
              "float"
            ]
          },
          "metadata": {},
          "execution_count": 45
        }
      ]
    },
    {
      "cell_type": "code",
      "source": [
        "float(int(height))"
      ],
      "metadata": {
        "colab": {
          "base_uri": "https://localhost:8080/"
        },
        "id": "gr6v4wHshZFu",
        "outputId": "a238c169-2932-47ae-a450-c06a7b02cb07"
      },
      "execution_count": 46,
      "outputs": [
        {
          "output_type": "execute_result",
          "data": {
            "text/plain": [
              "5.0"
            ]
          },
          "metadata": {},
          "execution_count": 46
        }
      ]
    },
    {
      "cell_type": "code",
      "source": [
        "## Dynamic Typing\n",
        "## Python allows the type of a variable to change as the program executes\n",
        "var= 10 #int\n",
        "print(var,type(var))\n",
        "\n",
        "var= \"Hello\"\n",
        "print(var,type(var))\n",
        "\n",
        "var = 3.14\n",
        "print(var,type(var))\n",
        "\n",
        "\n"
      ],
      "metadata": {
        "colab": {
          "base_uri": "https://localhost:8080/"
        },
        "id": "9nBUPLwRhesX",
        "outputId": "c78a2725-ac17-46b7-e1d7-8eb6fdf425e9"
      },
      "execution_count": 47,
      "outputs": [
        {
          "output_type": "stream",
          "name": "stdout",
          "text": [
            "10 <class 'int'>\n",
            "Hello <class 'str'>\n",
            "3.14 <class 'float'>\n"
          ]
        }
      ]
    },
    {
      "cell_type": "code",
      "source": [
        "## input\n",
        "\n",
        "age= int (input(\"What is the age\"))\n",
        "print(age, type(age))\n"
      ],
      "metadata": {
        "colab": {
          "base_uri": "https://localhost:8080/"
        },
        "id": "cl7XM_ChiLyb",
        "outputId": "ca6adc7f-a1b6-448c-e35e-96dea9e52077"
      },
      "execution_count": 60,
      "outputs": [
        {
          "output_type": "stream",
          "name": "stdout",
          "text": [
            "What is the age2\n",
            "2 <class 'int'>\n"
          ]
        }
      ]
    },
    {
      "cell_type": "code",
      "source": [
        "## Simple Calculator\n",
        "\n",
        "num1 = float(input(\"Value \"))\n",
        "num2 = float(input(\"Value \"))\n",
        "\n",
        "print(f\"{num1 + num2}, {num1 - num2}, {num1 * num2}, {num1 / num2}\")"
      ],
      "metadata": {
        "colab": {
          "base_uri": "https://localhost:8080/"
        },
        "id": "NCOAYExZieN-",
        "outputId": "836ac619-f3d5-4acd-dcc5-f336bfc62acb"
      },
      "execution_count": 83,
      "outputs": [
        {
          "output_type": "stream",
          "name": "stdout",
          "text": [
            "Value 4\n",
            "Value 6\n",
            "10.0, -2.0, 24.0, 0.6666666666666666\n"
          ]
        }
      ]
    },
    {
      "cell_type": "code",
      "source": [],
      "metadata": {
        "id": "UPQFgSaGj4Ig"
      },
      "execution_count": null,
      "outputs": []
    }
  ]
}